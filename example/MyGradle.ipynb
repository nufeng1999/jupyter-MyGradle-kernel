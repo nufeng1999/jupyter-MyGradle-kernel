{
 "cells": [
  {
   "cell_type": "code",
   "execution_count": null,
   "id": "85ff8736-1955-487b-b138-ce0a91dc7822",
   "metadata": {},
   "outputs": [],
   "source": [
    "##---------------------------\n",
    "##%runinterm\n",
    "##%term:c:\\Windows\\System32\\cmd.exe /c start bash\n",
    "##%execfile:src\\test.sh\n",
    "##%overwritefile\n",
    "##%file:src/test.sh\n",
    "##---------------------------\n",
    "ls\n",
    "//##%cwd:src\n",
    "//##%runprg:gradle.bat\n",
    "//##%runprgargs:dist test"
   ]
  },
  {
   "cell_type": "code",
   "execution_count": 5,
   "id": "fb57814c",
   "metadata": {},
   "outputs": [
    {
     "name": "stdout",
     "output_type": "stream",
     "text": [
      "[MyGradleKernel144956] Info:file h:\\Jupyter\\jupyter-MyGradle-kernel\\example\\src\\build.gradle created successfully\n",
      "[MyGradleKernel144956] Info:The process :h:\\Jupyter\\jupyter-MyGradle-kernel\\example\\src\\build.gradle\n",
      "[MyGradleKernel144956] Info:gradle.bat -b h:\\Jupyter\\jupyter-MyGradle-kernel\\example\\src\\build.gradle --warning-mode all dist test \n"
     ]
    },
    {
     "data": {
      "text/plain": [
       "Specifying custom build file location has been deprecated. This is scheduled to be removed in Gradle 8.0. Consult the upgrading guide for further information: https://docs.gradle.org/7.4.2/userguide/upgrading_version_7.html#configuring_custom_build_layout\r\n",
       "\r\n",
       "> Task :compile\r\n",
       "compiling source \r\n",
       "\r\n",
       "> Task :compileTest\r\n",
       "compiling unit tests\r\n",
       "\r\n",
       "> Task :test\r\n",
       "running unit tests\r\n",
       "\r\n",
       "> Task :dist\r\n",
       "building the distribution\r\n",
       "\r\n",
       "BUILD SUCCESSFUL in 1s\r\n",
       "4 actionable tasks: 4 executed\r\n"
      ]
     },
     "metadata": {
      "text/plain": {}
     },
     "output_type": "display_data"
    },
    {
     "name": "stdout",
     "output_type": "stream",
     "text": [
      "[MyGradleKernel144956] Info:The process end:15388\n"
     ]
    }
   ],
   "source": [
    "##%log:1\n",
    "##%overwritefile\n",
    "##%file:src/build.gradle\n",
    "##%args:--warning-mode all dist test \n",
    "task compile {\n",
    "    doLast {\n",
    "        println \"compiling source \"\n",
    "    }\n",
    "}\n",
    "task compileTest(dependsOn:compile){\n",
    "    doLast {\n",
    "        println \"compiling unit tests\"\n",
    "    }\n",
    "}\n",
    "task test(dependsOn:[compile,compileTest]){\n",
    "    doLast {\n",
    "        println \"running unit tests\"\n",
    "    }\n",
    "}\n",
    "task dist(dependsOn:[compile,test]){\n",
    "    doLast {\n",
    "        println \"building the distribution\"\n",
    "    }\n",
    "}"
   ]
  },
  {
   "cell_type": "code",
   "execution_count": null,
   "id": "14cb8680",
   "metadata": {},
   "outputs": [],
   "source": []
  }
 ],
 "metadata": {
  "interpreter": {
   "hash": "38bff49347d1e315ffe4e438ca69c956c90694fd6c920dd305da3d1e99520bc7"
  },
  "kernelspec": {
   "display_name": "MyGradle",
   "language": "gradle",
   "name": "mygradle"
  },
  "language_info": {
   "file_extension": ".sh",
   "mimetype": "text/shellscript",
   "name": "gradle"
  },
  "widgets": {
   "application/vnd.jupyter.widget-state+json": {
    "state": {},
    "version_major": 2,
    "version_minor": 0
   }
  }
 },
 "nbformat": 4,
 "nbformat_minor": 5
}
